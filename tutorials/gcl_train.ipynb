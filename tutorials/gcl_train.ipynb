{
 "cells": [
  {
   "cell_type": "markdown",
   "id": "4bc68038-aef2-4c70-99bc-9bab76607231",
   "metadata": {
    "tags": []
   },
   "source": [
    "# Tutorial: training a GCL benchmark model\n",
    "\n",
    "This tutorial uses the `ckg_benchmarks` package to train a GCL model and evaluate it on CompanyKG.\n",
    "\n",
    "The trained model is not likely to produce good results, since the hyperparameters are set for minimal computation (e.g. only one training epoch). But this code can serve as an example for training better models and a test of the GCL model training code.\n",
    "\n",
    "We demonstrate how to train with GRACE and MVGRL here. (The only difference is the `method` argument to `train_model`.)\n",
    "\n",
    "You can apply an almost identical training procedure to other GNN training methods by using their `train_model` functions and adjusting the parameters."
   ]
  },
  {
   "cell_type": "code",
   "execution_count": 1,
   "id": "34c3bc77-9eb8-4d05-84dd-f6c597c20760",
   "metadata": {},
   "outputs": [],
   "source": [
    "%load_ext autoreload\n",
    "%autoreload 2"
   ]
  },
  {
   "cell_type": "markdown",
   "id": "b42e0eec-ec4f-4828-9cda-1a68aea6bcac",
   "metadata": {},
   "source": [
    "We initialize logging so that we see model training progress."
   ]
  },
  {
   "cell_type": "code",
   "execution_count": 2,
   "id": "40d9db24-ef37-4e6c-a96f-7340e80c330e",
   "metadata": {},
   "outputs": [],
   "source": [
    "import logging\n",
    "logger = logging.getLogger()\n",
    "handler = logging.StreamHandler()\n",
    "handler.setFormatter(\n",
    "    logging.Formatter('%(asctime)s %(name)-12s %(levelname)-8s %(message)s')\n",
    ")\n",
    "logger.addHandler(handler)\n",
    "logger.setLevel(logging.INFO)"
   ]
  },
  {
   "cell_type": "code",
   "execution_count": 4,
   "id": "9764cf6b-2572-420d-822e-2b8488f8e7da",
   "metadata": {},
   "outputs": [],
   "source": [
    "from companykg import CompanyKG\n",
    "from ckg_benchmarks.gcl.train import train_model"
   ]
  },
  {
   "cell_type": "markdown",
   "id": "5f74dcb9-aa91-403b-a671-38a98677c26b",
   "metadata": {},
   "source": [
    "## Load data\n",
    "\n",
    "Prepare the CompanyKG dataset. \n",
    "\n",
    "The first time you run this, the data will be downloaded from Zenodo to the `data` subdirectory, which could take some time. After that, it will be quicker to load.\n",
    "\n",
    "The dataset is then loaded into memory using the mSBERT node feature type.\n",
    "\n",
    "This step is not strictly necessary, as we don't use the loaded data for training: the training routine takes care of loading it itself. But loading it here causes it to be downloaded if necessary."
   ]
  },
  {
   "cell_type": "code",
   "execution_count": 5,
   "id": "aeeabe85-74ea-47ea-8617-a14495938625",
   "metadata": {},
   "outputs": [
    {
     "name": "stderr",
     "output_type": "stream",
     "text": [
      "2023-06-14 12:39:58,723 companykg.kg INFO     [DONE] Loaded ./data/edges.pt\n",
      "2023-06-14 12:40:10,900 companykg.kg INFO     [DONE] Loaded ./data/edges_weight.pt\n",
      "2023-06-14 12:40:31,937 companykg.kg INFO     [DONE] Loaded ./data/nodes_feature_msbert.pt\n",
      "2023-06-14 12:40:33,453 companykg.kg INFO     [DONE] Loaded ./data/eval_task_sp.parquet.gz\n",
      "2023-06-14 12:40:33,521 companykg.kg INFO     [DONE] Loaded ./data/eval_task_sr.parquet.gz\n",
      "2023-06-14 12:40:33,526 companykg.kg INFO     [DONE] Loaded ./data/eval_task_cr.parquet.gz\n"
     ]
    }
   ],
   "source": [
    "ckg = CompanyKG(\n",
    "    nodes_feature_type=\"msbert\", \n",
    "    load_edges_weights=True,\n",
    ")"
   ]
  },
  {
   "cell_type": "markdown",
   "id": "8f3e7947-598b-4570-94e8-7516e8bab756",
   "metadata": {},
   "source": [
    "## GRACE training"
   ]
  },
  {
   "cell_type": "markdown",
   "id": "a3fb668d-8510-42d9-934d-38988053dd08",
   "metadata": {},
   "source": [
    "### Train model\n",
    "Now we set a minimal GCL model training using GRACE.\n",
    "\n",
    "Training uses a GPU if it's available.\n",
    "\n",
    "To train a better model, adjust the parameters set here, in particular `epochs`.\n",
    "\n",
    "Calling this training method is equivalent to running the following command:\n",
    "```\n",
    "python -m ckg_benchmarks.gcl.train \\\n",
    "    --device -1 \\\n",
    "    --method grace \\\n",
    "    --n-layer 1 \\\n",
    "    --embedding-dim 8 \\\n",
    "    --epochs 1 \\\n",
    "    --sampler-edges 2 \\\n",
    "    --batch-size 128\n",
    "```"
   ]
  },
  {
   "cell_type": "code",
   "execution_count": 7,
   "id": "a28865e3-db96-43af-9964-d3c6ca615d73",
   "metadata": {},
   "outputs": [
    {
     "name": "stderr",
     "output_type": "stream",
     "text": [
      "2023-06-14 12:41:41,929 ckg_benchmarks.base INFO     Initializing model and trainer\n",
      "2023-06-14 12:41:42,184 companykg.kg INFO     [DONE] Loaded ./data/edges.pt\n",
      "2023-06-14 12:41:42,912 companykg.kg INFO     [DONE] Loaded ./data/nodes_feature_msbert.pt\n",
      "2023-06-14 12:41:42,917 companykg.kg INFO     [DONE] Loaded ./data/eval_task_sp.parquet.gz\n",
      "2023-06-14 12:41:42,921 companykg.kg INFO     [DONE] Loaded ./data/eval_task_sr.parquet.gz\n",
      "2023-06-14 12:41:42,925 companykg.kg INFO     [DONE] Loaded ./data/eval_task_cr.parquet.gz\n"
     ]
    },
    {
     "name": "stdout",
     "output_type": "stream",
     "text": [
      "data_root_folder=./data\n",
      "n_nodes=1169931, n_edges=50815503\n",
      "nodes_feature_type=msbert\n",
      "nodes_feature_dimension=512\n",
      "sp: 3219 samples\n",
      "sr: 1856 samples\n",
      "cr: 400 samples\n"
     ]
    },
    {
     "name": "stderr",
     "output_type": "stream",
     "text": [
      "2023-06-14 12:41:43,293 ckg_benchmarks.base INFO     Data(x=[1169931, 512], edge_index=[2, 101631006])\n",
      "2023-06-14 12:41:43,296 ckg_benchmarks.base INFO     Starting model training\n",
      "2023-06-14 12:42:02,491 ckg_benchmarks.base INFO     Sending training logs to experiments/grace/msbert_1_1_8_2_128_42.log\n",
      "2023-06-14 12:42:02,492 ckg_benchmarks.base INFO     Strating model training\n",
      "2023-06-14 12:42:04,991 ckg_benchmarks.gcl.train INFO     Starting epoch 1\n"
     ]
    },
    {
     "data": {
      "application/vnd.jupyter.widget-view+json": {
       "model_id": "42ea2ec415e24d46b65f004458da7a35",
       "version_major": 2,
       "version_minor": 0
      },
      "text/plain": [
       "Epoch 1/1:   0%|          | 0/9141 [00:00<?, ?it/s]"
      ]
     },
     "metadata": {},
     "output_type": "display_data"
    },
    {
     "name": "stderr",
     "output_type": "stream",
     "text": [
      "/opt/conda/envs/python38/lib/python3.8/site-packages/torch_geometric/deprecation.py:22: UserWarning: 'dropout_adj' is deprecated, use 'dropout_edge' instead\n",
      "  warnings.warn(out)\n",
      "2023-06-14 12:43:30,915 ckg_benchmarks.gcl.train INFO     Epoch 1 loss: 27873.784133195877\n",
      "2023-06-14 12:43:30,916 ckg_benchmarks.base INFO     Model training complete\n",
      "2023-06-14 12:43:30,917 ckg_benchmarks.base INFO     Projecting full KG using final model\n",
      "2023-06-14 12:44:06,688 ckg_benchmarks.base INFO     Best embeddings saved to experiments/grace/msbert_1_1_8_2_128_42.pt\n",
      "2023-06-14 12:44:06,689 ckg_benchmarks.base INFO     Model training complete\n"
     ]
    }
   ],
   "source": [
    "trainer = train_model(\n",
    "    nodes_feature_type=\"msbert\",\n",
    "    # Train with GRACE; you can also use 'mvgrl' here\n",
    "    method=\"grace\",\n",
    "    # Minimum value we usually consider is 8\n",
    "    embedding_dim=8,\n",
    "    # Typically we use 2 or 3\n",
    "    n_layer=1,\n",
    "    # We usually sample 5 or 10 edges for training\n",
    "    sampler_edges=2,\n",
    "    # For GPU you'll want to set your batch size bigger if you can, as it makes it faster\n",
    "    batch_size=128,\n",
    "    # For our experiments we trained for 100 epochs, here just 1 for testing\n",
    "    epochs=1,\n",
    ")"
   ]
  },
  {
   "cell_type": "markdown",
   "id": "50334587-3501-4866-9d47-363b1f965ea5",
   "metadata": {
    "tags": []
   },
   "source": [
    "### Evaluation"
   ]
  },
  {
   "cell_type": "markdown",
   "id": "73d20113-7a89-4387-ab6a-ad51b53ffe30",
   "metadata": {},
   "source": [
    "At the end of training, the final trained model was used to project all the companies (nodes) in the graph into the learned vector space. We now feed these into the CompanyKG evaluation method to get final results."
   ]
  },
  {
   "cell_type": "code",
   "execution_count": 8,
   "id": "74ac7c75-b2a8-41aa-91d9-bb70b3aefee0",
   "metadata": {},
   "outputs": [
    {
     "name": "stdout",
     "output_type": "stream",
     "text": [
      "Evaluate Custom Embeddings:\n",
      "Evaluate SP ...\n",
      "SP AUC: 0.7642423012861067\n",
      "Evaluate SR ...\n",
      "SR Validation ACC: 0.625 SR Test ACC: 0.5866935483870968\n",
      "Evaluate CR with top-K hit rate (K=[50, 100, 200, 500, 1000, 2000, 5000, 10000]) ...\n",
      "CR Hit Rates: [0.0, 0.018543043214095844, 0.06450880990354674, 0.1578890407837776, 0.24386012379433433, 0.330349548112706, 0.4522841193893825, 0.5296498822814613]\n"
     ]
    }
   ],
   "source": [
    "eval_results = trainer.evaluate()"
   ]
  },
  {
   "cell_type": "markdown",
   "id": "65c24e6c-6f5e-4c70-9bd7-f91daa806f87",
   "metadata": {},
   "source": [
    "The evaluation results are all stored in a dict, from which we can pick out the ones we want to report."
   ]
  },
  {
   "cell_type": "code",
   "execution_count": 9,
   "id": "62878b28-e274-4fbf-bea3-54e39c51ceda",
   "metadata": {},
   "outputs": [
    {
     "name": "stdout",
     "output_type": "stream",
     "text": [
      "SP: 0.7642423012861067\n"
     ]
    }
   ],
   "source": [
    "print(f\"SP: {eval_results['sp_auc']}\")"
   ]
  },
  {
   "cell_type": "code",
   "execution_count": 10,
   "id": "f99c0e86-e561-4ea2-9380-7f9ce2c141b1",
   "metadata": {},
   "outputs": [
    {
     "name": "stdout",
     "output_type": "stream",
     "text": [
      "SR: 58.67%\n"
     ]
    }
   ],
   "source": [
    "print(f\"SR: {eval_results['sr_test_acc']*100.:.2f}%\")"
   ]
  },
  {
   "cell_type": "code",
   "execution_count": 13,
   "id": "86bbd4b3-385d-4435-9b24-161e49e0cb75",
   "metadata": {},
   "outputs": [
    {
     "name": "stdout",
     "output_type": "stream",
     "text": [
      "CR:\n",
      "R@50: 0.00%\n",
      "R@100: 1.85%\n",
      "R@200: 6.45%\n",
      "R@500: 15.79%\n",
      "R@1000: 24.39%\n",
      "R@2000: 33.03%\n",
      "R@5000: 45.23%\n",
      "R@10000: 52.96%\n"
     ]
    }
   ],
   "source": [
    "print(\"CR:\")\n",
    "for k, cr in zip(trainer.comkg.eval_cr_top_ks, eval_results['cr_topk_hit_rate']):\n",
    "    print(f\"R@{k}: {cr*100.:.2f}%\")"
   ]
  },
  {
   "cell_type": "markdown",
   "id": "905e7b18-ba29-45c1-aef2-92baddb9d9ad",
   "metadata": {},
   "source": [
    "## MVGRL training"
   ]
  },
  {
   "cell_type": "markdown",
   "id": "ccadec28-4547-4a4a-b3cf-50896cd34697",
   "metadata": {},
   "source": [
    "### Training\n",
    "\n",
    "Training MVGRL is exactly the same as GRACE."
   ]
  },
  {
   "cell_type": "code",
   "execution_count": 15,
   "id": "7e8de49b-d1bc-4935-8566-c61ada76fb18",
   "metadata": {},
   "outputs": [
    {
     "name": "stderr",
     "output_type": "stream",
     "text": [
      "2023-06-14 13:04:58,229 ckg_benchmarks.base INFO     Initializing model and trainer\n",
      "2023-06-14 13:04:58,482 companykg.kg INFO     [DONE] Loaded ./data/edges.pt\n",
      "2023-06-14 13:04:59,208 companykg.kg INFO     [DONE] Loaded ./data/nodes_feature_msbert.pt\n",
      "2023-06-14 13:04:59,214 companykg.kg INFO     [DONE] Loaded ./data/eval_task_sp.parquet.gz\n",
      "2023-06-14 13:04:59,218 companykg.kg INFO     [DONE] Loaded ./data/eval_task_sr.parquet.gz\n",
      "2023-06-14 13:04:59,221 companykg.kg INFO     [DONE] Loaded ./data/eval_task_cr.parquet.gz\n"
     ]
    },
    {
     "name": "stdout",
     "output_type": "stream",
     "text": [
      "data_root_folder=./data\n",
      "n_nodes=1169931, n_edges=50815503\n",
      "nodes_feature_type=msbert\n",
      "nodes_feature_dimension=512\n",
      "sp: 3219 samples\n",
      "sr: 1856 samples\n",
      "cr: 400 samples\n"
     ]
    },
    {
     "name": "stderr",
     "output_type": "stream",
     "text": [
      "2023-06-14 13:04:59,557 ckg_benchmarks.base INFO     Data(x=[1169931, 512], edge_index=[2, 101631006])\n",
      "2023-06-14 13:04:59,560 ckg_benchmarks.base INFO     Starting model training\n",
      "2023-06-14 13:04:59,562 ckg_benchmarks.base INFO     Sending training logs to experiments/mvgrl/msbert_1_1_8_2_128_42.log\n",
      "2023-06-14 13:04:59,563 ckg_benchmarks.base INFO     Strating model training\n",
      "2023-06-14 13:05:01,739 ckg_benchmarks.gcl.train INFO     Starting epoch 1\n"
     ]
    },
    {
     "data": {
      "application/vnd.jupyter.widget-view+json": {
       "model_id": "6564d31ee826471181e117de4a79f218",
       "version_major": 2,
       "version_minor": 0
      },
      "text/plain": [
       "Epoch 1/1:   0%|          | 0/9141 [00:00<?, ?it/s]"
      ]
     },
     "metadata": {},
     "output_type": "display_data"
    },
    {
     "name": "stderr",
     "output_type": "stream",
     "text": [
      "2023-06-14 13:06:34,663 ckg_benchmarks.gcl.train INFO     Epoch 1 loss: -8337.374342504889\n",
      "2023-06-14 13:06:34,664 ckg_benchmarks.base INFO     Model training complete\n",
      "2023-06-14 13:06:34,665 ckg_benchmarks.base INFO     Projecting full KG using final model\n",
      "2023-06-14 13:07:10,336 ckg_benchmarks.base INFO     Best embeddings saved to experiments/mvgrl/msbert_1_1_8_2_128_42.pt\n",
      "2023-06-14 13:07:10,338 ckg_benchmarks.base INFO     Model training complete\n"
     ]
    }
   ],
   "source": [
    "trainer2 = train_model(\n",
    "    nodes_feature_type=\"msbert\",\n",
    "    method=\"mvgrl\",\n",
    "    embedding_dim=8,\n",
    "    n_layer=1,\n",
    "    sampler_edges=2,\n",
    "    batch_size=128,\n",
    "    epochs=1,\n",
    ")"
   ]
  },
  {
   "cell_type": "markdown",
   "id": "bb83fd7c-b67d-4961-b959-8c44820a01c0",
   "metadata": {
    "tags": []
   },
   "source": [
    "### Evaluation"
   ]
  },
  {
   "cell_type": "code",
   "execution_count": 16,
   "id": "a0ea451b-6edb-4ae7-89a2-c7a853c558e7",
   "metadata": {},
   "outputs": [
    {
     "name": "stdout",
     "output_type": "stream",
     "text": [
      "Evaluate Custom Embeddings:\n",
      "Evaluate SP ...\n",
      "SP AUC: 0.5797767103886661\n",
      "Evaluate SR ...\n",
      "SR Validation ACC: 0.5543478260869565 SR Test ACC: 0.5477150537634409\n",
      "Evaluate CR with top-K hit rate (K=[50, 100, 200, 500, 1000, 2000, 5000, 10000]) ...\n",
      "CR Hit Rates: [0.0018796992481203006, 0.015037593984962405, 0.02106829573934837, 0.04037793347003873, 0.06084054834054833, 0.09382072605756817, 0.15318409660514923, 0.23358538391433128]\n"
     ]
    }
   ],
   "source": [
    "eval_results2 = trainer2.evaluate()"
   ]
  },
  {
   "cell_type": "code",
   "execution_count": 17,
   "id": "1b52b928-384c-49fc-8254-1d4c7de7d391",
   "metadata": {},
   "outputs": [
    {
     "name": "stdout",
     "output_type": "stream",
     "text": [
      "SP: 0.5797767103886661\n"
     ]
    }
   ],
   "source": [
    "print(f\"SP: {eval_results2['sp_auc']}\")"
   ]
  },
  {
   "cell_type": "code",
   "execution_count": 18,
   "id": "0e6a4b9a-ef64-4263-8bbd-8e3c60822786",
   "metadata": {},
   "outputs": [
    {
     "name": "stdout",
     "output_type": "stream",
     "text": [
      "SR: 54.77%\n"
     ]
    }
   ],
   "source": [
    "print(f\"SR: {eval_results2['sr_test_acc']*100.:.2f}%\")"
   ]
  },
  {
   "cell_type": "code",
   "execution_count": 19,
   "id": "d7f7960a-10df-497a-9c70-dcbf0e039350",
   "metadata": {},
   "outputs": [
    {
     "name": "stdout",
     "output_type": "stream",
     "text": [
      "CR:\n",
      "R@50: 0.19%\n",
      "R@100: 1.50%\n",
      "R@200: 2.11%\n",
      "R@500: 4.04%\n",
      "R@1000: 6.08%\n",
      "R@2000: 9.38%\n",
      "R@5000: 15.32%\n",
      "R@10000: 23.36%\n"
     ]
    }
   ],
   "source": [
    "print(\"CR:\")\n",
    "for k, cr in zip(trainer2.comkg.eval_cr_top_ks, eval_results2['cr_topk_hit_rate']):\n",
    "    print(f\"R@{k}: {cr*100.:.2f}%\")"
   ]
  }
 ],
 "metadata": {
  "environment": {
   "kernel": "python38",
   "name": "pytorch-gpu.1-13.m107",
   "type": "gcloud",
   "uri": "gcr.io/deeplearning-platform-release/pytorch-gpu.1-13:m107"
  },
  "kernelspec": {
   "display_name": "python38",
   "language": "python",
   "name": "python38"
  },
  "language_info": {
   "codemirror_mode": {
    "name": "ipython",
    "version": 3
   },
   "file_extension": ".py",
   "mimetype": "text/x-python",
   "name": "python",
   "nbconvert_exporter": "python",
   "pygments_lexer": "ipython3",
   "version": "3.8.16"
  }
 },
 "nbformat": 4,
 "nbformat_minor": 5
}

{
 "cells": [
  {
   "cell_type": "code",
   "execution_count": 1,
   "metadata": {},
   "outputs": [],
   "source": [
    "from companykg import CompanyKG"
   ]
  },
  {
   "attachments": {},
   "cell_type": "markdown",
   "metadata": {},
   "source": [
    "## Initialize CompanyKG"
   ]
  },
  {
   "cell_type": "code",
   "execution_count": 2,
   "metadata": {},
   "outputs": [],
   "source": [
    "DATA_ROOT_FOLDER = \"./data\"\n",
    "\n",
    "# It may take long time if the data files are not yet downloaded.\n",
    "comkg = CompanyKG(nodes_feature_type=\"msbert\", load_edges_weights=True, data_root_folder=DATA_ROOT_FOLDER)"
   ]
  },
  {
   "cell_type": "code",
   "execution_count": 3,
   "metadata": {},
   "outputs": [
    {
     "data": {
      "text/plain": [
       "1169931"
      ]
     },
     "execution_count": 3,
     "metadata": {},
     "output_type": "execute_result"
    }
   ],
   "source": [
    "# Obtain the list of node IDs using nodes_id\n",
    "len(comkg.nodes_id)"
   ]
  },
  {
   "attachments": {},
   "cell_type": "markdown",
   "metadata": {},
   "source": [
    "## Inspect CompanyKG"
   ]
  },
  {
   "cell_type": "code",
   "execution_count": 4,
   "metadata": {},
   "outputs": [
    {
     "name": "stdout",
     "output_type": "stream",
     "text": [
      "data_root_folder=./data\n",
      "n_nodes=1169931, n_edges=50815503\n",
      "nodes_feature_type=msbert\n",
      "nodes_feature_dimension=512\n",
      "edges_weight_dimension=15\n",
      "sp: 3219 samples\n",
      "sr: 1856 samples\n",
      "cr: 400 samples\n"
     ]
    }
   ],
   "source": [
    "# Show the important info of the loaded data\n",
    "comkg.describe()"
   ]
  },
  {
   "cell_type": "code",
   "execution_count": 5,
   "metadata": {},
   "outputs": [
    {
     "data": {
      "text/plain": [
       "tensor([[ 0.0642,  0.0100, -0.0427,  ...,  0.0580,  0.0156, -0.0645],\n",
       "        [ 0.0563, -0.0086, -0.0114,  ..., -0.0381, -0.0020, -0.1615],\n",
       "        [ 0.0668, -0.0803,  0.0296,  ...,  0.0003,  0.0872, -0.0662],\n",
       "        ...,\n",
       "        [-0.0072,  0.0593, -0.0401,  ...,  0.0861,  0.0681, -0.0302],\n",
       "        [-0.0445, -0.1243,  0.0048,  ...,  0.0149, -0.0466, -0.0800],\n",
       "        [-0.0396, -0.0113, -0.0121,  ..., -0.0240, -0.0342, -0.0039]])"
      ]
     },
     "execution_count": 5,
     "metadata": {},
     "output_type": "execute_result"
    }
   ],
   "source": [
    "# Nodes feature: ordered by comkg.nodes_id\n",
    "comkg.nodes_feature"
   ]
  },
  {
   "cell_type": "code",
   "execution_count": 6,
   "metadata": {},
   "outputs": [
    {
     "data": {
      "text/plain": [
       "tensor([[ 113091,  412357],\n",
       "        [ 560244, 1164306],\n",
       "        [ 388246, 1121544],\n",
       "        ...,\n",
       "        [  84160,  837013],\n",
       "        [ 179090,  917143],\n",
       "        [ 179090,  226260]])"
      ]
     },
     "execution_count": 6,
     "metadata": {},
     "output_type": "execute_result"
    }
   ],
   "source": [
    "# Edges\n",
    "comkg.edges"
   ]
  },
  {
   "cell_type": "code",
   "execution_count": 7,
   "metadata": {},
   "outputs": [
    {
     "data": {
      "text/plain": [
       "tensor([[0.0000, 0.0000, 0.0000,  ..., 0.0000, 0.0000, 0.7918],\n",
       "        [0.0000, 0.0000, 0.0000,  ..., 0.0000, 0.0000, 0.7918],\n",
       "        [0.0000, 0.0000, 0.0000,  ..., 0.0000, 0.0000, 0.7918],\n",
       "        ...,\n",
       "        [1.0000, 0.0000, 1.0000,  ..., 0.0000, 0.0000, 0.0000],\n",
       "        [1.0000, 1.0000, 0.0000,  ..., 0.0000, 0.0000, 0.0000],\n",
       "        [1.0000, 1.0000, 0.0000,  ..., 0.0000, 0.0000, 0.0000]])"
      ]
     },
     "execution_count": 7,
     "metadata": {},
     "output_type": "execute_result"
    }
   ],
   "source": [
    "# Edges weight\n",
    "comkg.edges_weight"
   ]
  },
  {
   "attachments": {},
   "cell_type": "markdown",
   "metadata": {},
   "source": [
    "## Inspect Evaluation Data"
   ]
  },
  {
   "cell_type": "code",
   "execution_count": 8,
   "metadata": {},
   "outputs": [
    {
     "data": {
      "text/html": [
       "<div>\n",
       "<style scoped>\n",
       "    .dataframe tbody tr th:only-of-type {\n",
       "        vertical-align: middle;\n",
       "    }\n",
       "\n",
       "    .dataframe tbody tr th {\n",
       "        vertical-align: top;\n",
       "    }\n",
       "\n",
       "    .dataframe thead th {\n",
       "        text-align: right;\n",
       "    }\n",
       "</style>\n",
       "<table border=\"1\" class=\"dataframe\">\n",
       "  <thead>\n",
       "    <tr style=\"text-align: right;\">\n",
       "      <th></th>\n",
       "      <th>node_id0</th>\n",
       "      <th>node_id1</th>\n",
       "      <th>label</th>\n",
       "    </tr>\n",
       "  </thead>\n",
       "  <tbody>\n",
       "    <tr>\n",
       "      <th>0</th>\n",
       "      <td>121769</td>\n",
       "      <td>136631</td>\n",
       "      <td>0</td>\n",
       "    </tr>\n",
       "    <tr>\n",
       "      <th>1</th>\n",
       "      <td>151107</td>\n",
       "      <td>336852</td>\n",
       "      <td>0</td>\n",
       "    </tr>\n",
       "    <tr>\n",
       "      <th>2</th>\n",
       "      <td>333601</td>\n",
       "      <td>363822</td>\n",
       "      <td>0</td>\n",
       "    </tr>\n",
       "    <tr>\n",
       "      <th>3</th>\n",
       "      <td>2481</td>\n",
       "      <td>419571</td>\n",
       "      <td>0</td>\n",
       "    </tr>\n",
       "    <tr>\n",
       "      <th>4</th>\n",
       "      <td>37253</td>\n",
       "      <td>437144</td>\n",
       "      <td>0</td>\n",
       "    </tr>\n",
       "    <tr>\n",
       "      <th>...</th>\n",
       "      <td>...</td>\n",
       "      <td>...</td>\n",
       "      <td>...</td>\n",
       "    </tr>\n",
       "    <tr>\n",
       "      <th>3214</th>\n",
       "      <td>361222</td>\n",
       "      <td>883235</td>\n",
       "      <td>1</td>\n",
       "    </tr>\n",
       "    <tr>\n",
       "      <th>3215</th>\n",
       "      <td>536154</td>\n",
       "      <td>883235</td>\n",
       "      <td>1</td>\n",
       "    </tr>\n",
       "    <tr>\n",
       "      <th>3216</th>\n",
       "      <td>330058</td>\n",
       "      <td>1088487</td>\n",
       "      <td>1</td>\n",
       "    </tr>\n",
       "    <tr>\n",
       "      <th>3217</th>\n",
       "      <td>494594</td>\n",
       "      <td>1088487</td>\n",
       "      <td>1</td>\n",
       "    </tr>\n",
       "    <tr>\n",
       "      <th>3218</th>\n",
       "      <td>1624</td>\n",
       "      <td>1088487</td>\n",
       "      <td>1</td>\n",
       "    </tr>\n",
       "  </tbody>\n",
       "</table>\n",
       "<p>3219 rows × 3 columns</p>\n",
       "</div>"
      ],
      "text/plain": [
       "      node_id0  node_id1  label\n",
       "0       121769    136631      0\n",
       "1       151107    336852      0\n",
       "2       333601    363822      0\n",
       "3         2481    419571      0\n",
       "4        37253    437144      0\n",
       "...        ...       ...    ...\n",
       "3214    361222    883235      1\n",
       "3215    536154    883235      1\n",
       "3216    330058   1088487      1\n",
       "3217    494594   1088487      1\n",
       "3218      1624   1088487      1\n",
       "\n",
       "[3219 rows x 3 columns]"
      ]
     },
     "execution_count": 8,
     "metadata": {},
     "output_type": "execute_result"
    }
   ],
   "source": [
    "# SP samples\n",
    "comkg.eval_tasks['sp'][1]"
   ]
  },
  {
   "cell_type": "code",
   "execution_count": 9,
   "metadata": {},
   "outputs": [
    {
     "data": {
      "text/html": [
       "<div>\n",
       "<style scoped>\n",
       "    .dataframe tbody tr th:only-of-type {\n",
       "        vertical-align: middle;\n",
       "    }\n",
       "\n",
       "    .dataframe tbody tr th {\n",
       "        vertical-align: top;\n",
       "    }\n",
       "\n",
       "    .dataframe thead th {\n",
       "        text-align: right;\n",
       "    }\n",
       "</style>\n",
       "<table border=\"1\" class=\"dataframe\">\n",
       "  <thead>\n",
       "    <tr style=\"text-align: right;\">\n",
       "      <th></th>\n",
       "      <th>target_node_id</th>\n",
       "      <th>candidate0_node_id</th>\n",
       "      <th>candidate1_node_id</th>\n",
       "      <th>label</th>\n",
       "      <th>split</th>\n",
       "    </tr>\n",
       "  </thead>\n",
       "  <tbody>\n",
       "    <tr>\n",
       "      <th>0</th>\n",
       "      <td>201389</td>\n",
       "      <td>198435</td>\n",
       "      <td>797652</td>\n",
       "      <td>0</td>\n",
       "      <td>test</td>\n",
       "    </tr>\n",
       "    <tr>\n",
       "      <th>1</th>\n",
       "      <td>450703</td>\n",
       "      <td>618486</td>\n",
       "      <td>624384</td>\n",
       "      <td>0</td>\n",
       "      <td>test</td>\n",
       "    </tr>\n",
       "    <tr>\n",
       "      <th>2</th>\n",
       "      <td>1097415</td>\n",
       "      <td>297978</td>\n",
       "      <td>386584</td>\n",
       "      <td>0</td>\n",
       "      <td>validation</td>\n",
       "    </tr>\n",
       "    <tr>\n",
       "      <th>3</th>\n",
       "      <td>81000</td>\n",
       "      <td>244410</td>\n",
       "      <td>1016534</td>\n",
       "      <td>0</td>\n",
       "      <td>test</td>\n",
       "    </tr>\n",
       "    <tr>\n",
       "      <th>4</th>\n",
       "      <td>861572</td>\n",
       "      <td>1155658</td>\n",
       "      <td>1115208</td>\n",
       "      <td>0</td>\n",
       "      <td>test</td>\n",
       "    </tr>\n",
       "    <tr>\n",
       "      <th>...</th>\n",
       "      <td>...</td>\n",
       "      <td>...</td>\n",
       "      <td>...</td>\n",
       "      <td>...</td>\n",
       "      <td>...</td>\n",
       "    </tr>\n",
       "    <tr>\n",
       "      <th>1851</th>\n",
       "      <td>522257</td>\n",
       "      <td>669089</td>\n",
       "      <td>607981</td>\n",
       "      <td>1</td>\n",
       "      <td>test</td>\n",
       "    </tr>\n",
       "    <tr>\n",
       "      <th>1852</th>\n",
       "      <td>1083662</td>\n",
       "      <td>203070</td>\n",
       "      <td>482478</td>\n",
       "      <td>1</td>\n",
       "      <td>validation</td>\n",
       "    </tr>\n",
       "    <tr>\n",
       "      <th>1853</th>\n",
       "      <td>354276</td>\n",
       "      <td>551887</td>\n",
       "      <td>865995</td>\n",
       "      <td>0</td>\n",
       "      <td>test</td>\n",
       "    </tr>\n",
       "    <tr>\n",
       "      <th>1854</th>\n",
       "      <td>830672</td>\n",
       "      <td>504882</td>\n",
       "      <td>1046882</td>\n",
       "      <td>1</td>\n",
       "      <td>test</td>\n",
       "    </tr>\n",
       "    <tr>\n",
       "      <th>1855</th>\n",
       "      <td>804707</td>\n",
       "      <td>991173</td>\n",
       "      <td>91744</td>\n",
       "      <td>1</td>\n",
       "      <td>test</td>\n",
       "    </tr>\n",
       "  </tbody>\n",
       "</table>\n",
       "<p>1856 rows × 5 columns</p>\n",
       "</div>"
      ],
      "text/plain": [
       "      target_node_id  candidate0_node_id  candidate1_node_id  label  \\\n",
       "0             201389              198435              797652      0   \n",
       "1             450703              618486              624384      0   \n",
       "2            1097415              297978              386584      0   \n",
       "3              81000              244410             1016534      0   \n",
       "4             861572             1155658             1115208      0   \n",
       "...              ...                 ...                 ...    ...   \n",
       "1851          522257              669089              607981      1   \n",
       "1852         1083662              203070              482478      1   \n",
       "1853          354276              551887              865995      0   \n",
       "1854          830672              504882             1046882      1   \n",
       "1855          804707              991173               91744      1   \n",
       "\n",
       "           split  \n",
       "0           test  \n",
       "1           test  \n",
       "2     validation  \n",
       "3           test  \n",
       "4           test  \n",
       "...          ...  \n",
       "1851        test  \n",
       "1852  validation  \n",
       "1853        test  \n",
       "1854        test  \n",
       "1855        test  \n",
       "\n",
       "[1856 rows x 5 columns]"
      ]
     },
     "execution_count": 9,
     "metadata": {},
     "output_type": "execute_result"
    }
   ],
   "source": [
    "# SR samples\n",
    "comkg.eval_tasks['sr'][1]"
   ]
  },
  {
   "cell_type": "code",
   "execution_count": 10,
   "metadata": {},
   "outputs": [
    {
     "data": {
      "text/html": [
       "<div>\n",
       "<style scoped>\n",
       "    .dataframe tbody tr th:only-of-type {\n",
       "        vertical-align: middle;\n",
       "    }\n",
       "\n",
       "    .dataframe tbody tr th {\n",
       "        vertical-align: top;\n",
       "    }\n",
       "\n",
       "    .dataframe thead th {\n",
       "        text-align: right;\n",
       "    }\n",
       "</style>\n",
       "<table border=\"1\" class=\"dataframe\">\n",
       "  <thead>\n",
       "    <tr style=\"text-align: right;\">\n",
       "      <th></th>\n",
       "      <th>target_node_id</th>\n",
       "      <th>competitor_node_id</th>\n",
       "    </tr>\n",
       "  </thead>\n",
       "  <tbody>\n",
       "    <tr>\n",
       "      <th>0</th>\n",
       "      <td>3843</td>\n",
       "      <td>34994</td>\n",
       "    </tr>\n",
       "    <tr>\n",
       "      <th>1</th>\n",
       "      <td>3843</td>\n",
       "      <td>263332</td>\n",
       "    </tr>\n",
       "    <tr>\n",
       "      <th>2</th>\n",
       "      <td>3843</td>\n",
       "      <td>1034500</td>\n",
       "    </tr>\n",
       "    <tr>\n",
       "      <th>3</th>\n",
       "      <td>4981</td>\n",
       "      <td>45823</td>\n",
       "    </tr>\n",
       "    <tr>\n",
       "      <th>4</th>\n",
       "      <td>4981</td>\n",
       "      <td>288480</td>\n",
       "    </tr>\n",
       "    <tr>\n",
       "      <th>...</th>\n",
       "      <td>...</td>\n",
       "      <td>...</td>\n",
       "    </tr>\n",
       "    <tr>\n",
       "      <th>395</th>\n",
       "      <td>1144634</td>\n",
       "      <td>1004440</td>\n",
       "    </tr>\n",
       "    <tr>\n",
       "      <th>396</th>\n",
       "      <td>1144634</td>\n",
       "      <td>1077443</td>\n",
       "    </tr>\n",
       "    <tr>\n",
       "      <th>397</th>\n",
       "      <td>1163522</td>\n",
       "      <td>172921</td>\n",
       "    </tr>\n",
       "    <tr>\n",
       "      <th>398</th>\n",
       "      <td>1163522</td>\n",
       "      <td>268689</td>\n",
       "    </tr>\n",
       "    <tr>\n",
       "      <th>399</th>\n",
       "      <td>1163522</td>\n",
       "      <td>1149354</td>\n",
       "    </tr>\n",
       "  </tbody>\n",
       "</table>\n",
       "<p>400 rows × 2 columns</p>\n",
       "</div>"
      ],
      "text/plain": [
       "     target_node_id  competitor_node_id\n",
       "0              3843               34994\n",
       "1              3843              263332\n",
       "2              3843             1034500\n",
       "3              4981               45823\n",
       "4              4981              288480\n",
       "..              ...                 ...\n",
       "395         1144634             1004440\n",
       "396         1144634             1077443\n",
       "397         1163522              172921\n",
       "398         1163522              268689\n",
       "399         1163522             1149354\n",
       "\n",
       "[400 rows x 2 columns]"
      ]
     },
     "execution_count": 10,
     "metadata": {},
     "output_type": "execute_result"
    }
   ],
   "source": [
    "# CR samples\n",
    "comkg.eval_tasks['cr'][1]"
   ]
  },
  {
   "attachments": {},
   "cell_type": "markdown",
   "metadata": {},
   "source": [
    "## Evaluate Node Feature"
   ]
  },
  {
   "cell_type": "code",
   "execution_count": 11,
   "metadata": {},
   "outputs": [
    {
     "name": "stdout",
     "output_type": "stream",
     "text": [
      "Evaluate Node Features msbert:\n",
      "Evaluate SP ...\n",
      "SP AUC: 0.8059550091101482\n",
      "Evaluate SR ...\n",
      "SR Validation ACC: 0.6956521739130435 SR Test ACC: 0.6713709677419355\n",
      "Evaluate CR with top-K hit rate (K=[50, 100, 200, 500, 1000, 2000, 5000, 10000]) ...\n",
      "CR Hit Rates: [0.12955922001974632, 0.18240535049745576, 0.23030967570441258, 0.31102329687856, 0.4143004291030607, 0.47711466165413524, 0.5583993126756285, 0.6349049707602339]\n"
     ]
    }
   ],
   "source": [
    "# Run all evaluation tasks on the loaded node feature\n",
    "eval_results = comkg.evaluate()"
   ]
  },
  {
   "cell_type": "code",
   "execution_count": 12,
   "metadata": {},
   "outputs": [
    {
     "data": {
      "text/plain": [
       "0.8059550091101482"
      ]
     },
     "execution_count": 12,
     "metadata": {},
     "output_type": "execute_result"
    }
   ],
   "source": [
    "# Show AUC score for SP task\n",
    "eval_results[\"sp_auc\"]"
   ]
  },
  {
   "cell_type": "code",
   "execution_count": 13,
   "metadata": {},
   "outputs": [
    {
     "data": {
      "text/plain": [
       "0.6713709677419355"
      ]
     },
     "execution_count": 13,
     "metadata": {},
     "output_type": "execute_result"
    }
   ],
   "source": [
    "# Show test accuracy for SR task\n",
    "eval_results[\"sr_test_acc\"]"
   ]
  },
  {
   "cell_type": "code",
   "execution_count": 14,
   "metadata": {},
   "outputs": [
    {
     "data": {
      "text/plain": [
       "0.6956521739130435"
      ]
     },
     "execution_count": 14,
     "metadata": {},
     "output_type": "execute_result"
    }
   ],
   "source": [
    "# Show validation accuracy for SR task\n",
    "eval_results[\"sr_validation_acc\"]"
   ]
  },
  {
   "cell_type": "code",
   "execution_count": 15,
   "metadata": {},
   "outputs": [
    {
     "data": {
      "text/plain": [
       "[0.12955922001974632,\n",
       " 0.18240535049745576,\n",
       " 0.23030967570441258,\n",
       " 0.31102329687856,\n",
       " 0.4143004291030607,\n",
       " 0.47711466165413524,\n",
       " 0.5583993126756285,\n",
       " 0.6349049707602339]"
      ]
     },
     "execution_count": 15,
     "metadata": {},
     "output_type": "execute_result"
    }
   ],
   "source": [
    "# Show Top-K Hit Rate for CR task\n",
    "eval_results[\"cr_topk_hit_rate\"]"
   ]
  },
  {
   "attachments": {},
   "cell_type": "markdown",
   "metadata": {},
   "source": [
    "## Evaluate Saved Embedding"
   ]
  },
  {
   "cell_type": "code",
   "execution_count": 16,
   "metadata": {},
   "outputs": [
    {
     "name": "stdout",
     "output_type": "stream",
     "text": [
      "Evaluate Node Embeddings ./data/nodes_feature_msbert.pt:\n",
      "Evaluate SP ...\n",
      "SP AUC: 0.8059550091101482\n",
      "Evaluate SR ...\n",
      "SR Validation ACC: 0.6956521739130435 SR Test ACC: 0.6713709677419355\n",
      "Evaluate CR with top-K hit rate (K=[50, 100, 200, 500, 1000, 2000, 5000, 10000]) ...\n",
      "CR Hit Rates: [0.12955922001974632, 0.18240535049745576, 0.23030967570441258, 0.31102329687856, 0.4143004291030607, 0.47711466165413524, 0.5583993126756285, 0.6349049707602339]\n"
     ]
    }
   ],
   "source": [
    "# Run all evaluation tasks on the specified embeddings saved in torch.Tensor format\n",
    "\n",
    "EMBEDDINGS_FILE = \"./data/nodes_feature_msbert.pt\"\n",
    "\n",
    "eval_results = comkg.evaluate(embeddings_file=EMBEDDINGS_FILE)"
   ]
  },
  {
   "cell_type": "code",
   "execution_count": 17,
   "metadata": {},
   "outputs": [
    {
     "data": {
      "text/plain": [
       "0.8059550091101482"
      ]
     },
     "execution_count": 17,
     "metadata": {},
     "output_type": "execute_result"
    }
   ],
   "source": [
    "# Show AUC score for SP task\n",
    "eval_results[\"sp_auc\"]"
   ]
  },
  {
   "cell_type": "code",
   "execution_count": 18,
   "metadata": {},
   "outputs": [
    {
     "data": {
      "text/plain": [
       "0.6713709677419355"
      ]
     },
     "execution_count": 18,
     "metadata": {},
     "output_type": "execute_result"
    }
   ],
   "source": [
    "# Show test accuracy for SR task\n",
    "eval_results[\"sr_test_acc\"]"
   ]
  },
  {
   "cell_type": "code",
   "execution_count": 19,
   "metadata": {},
   "outputs": [
    {
     "data": {
      "text/plain": [
       "0.6956521739130435"
      ]
     },
     "execution_count": 19,
     "metadata": {},
     "output_type": "execute_result"
    }
   ],
   "source": [
    "# Show validation accuracy for SR task\n",
    "eval_results[\"sr_validation_acc\"]"
   ]
  },
  {
   "cell_type": "code",
   "execution_count": 20,
   "metadata": {},
   "outputs": [
    {
     "data": {
      "text/plain": [
       "[0.12955922001974632,\n",
       " 0.18240535049745576,\n",
       " 0.23030967570441258,\n",
       " 0.31102329687856,\n",
       " 0.4143004291030607,\n",
       " 0.47711466165413524,\n",
       " 0.5583993126756285,\n",
       " 0.6349049707602339]"
      ]
     },
     "execution_count": 20,
     "metadata": {},
     "output_type": "execute_result"
    }
   ],
   "source": [
    "# Show Top-K Hit Rate for CR task\n",
    "eval_results[\"cr_topk_hit_rate\"]"
   ]
  },
  {
   "attachments": {},
   "cell_type": "markdown",
   "metadata": {},
   "source": [
    "## Create DGL Graph"
   ]
  },
  {
   "cell_type": "code",
   "execution_count": 21,
   "metadata": {},
   "outputs": [
    {
     "data": {
      "text/plain": [
       "[Graph(num_nodes=1169931, num_edges=50815503,\n",
       "       ndata_schemes={'feat': Scheme(shape=(512,), dtype=torch.float32)}\n",
       "       edata_schemes={'weight': Scheme(shape=(15,), dtype=torch.float32)})]"
      ]
     },
     "execution_count": 21,
     "metadata": {},
     "output_type": "execute_result"
    }
   ],
   "source": [
    "# Takes about 15 mins, the graph will be saved to work_folder\n",
    "g = comkg.get_dgl_graph(work_folder=\"./experiments\")\n",
    "g"
   ]
  },
  {
   "cell_type": "code",
   "execution_count": 22,
   "metadata": {},
   "outputs": [
    {
     "data": {
      "text/plain": [
       "[Graph(num_nodes=1169931, num_edges=50815503,\n",
       "       ndata_schemes={'feat': Scheme(shape=(512,), dtype=torch.float32)}\n",
       "       edata_schemes={'weight': Scheme(shape=(15,), dtype=torch.float32)})]"
      ]
     },
     "execution_count": 22,
     "metadata": {},
     "output_type": "execute_result"
    }
   ],
   "source": [
    "# When call the same function again, it will load from file directly\n",
    "g = comkg.get_dgl_graph(work_folder=\"./experiments\")\n",
    "g"
   ]
  },
  {
   "attachments": {},
   "cell_type": "markdown",
   "metadata": {},
   "source": [
    "## Create iGraph"
   ]
  },
  {
   "cell_type": "code",
   "execution_count": 24,
   "metadata": {},
   "outputs": [
    {
     "data": {
      "text/plain": [
       "<igraph.Graph at 0x7fa0d7ec9e40>"
      ]
     },
     "execution_count": 24,
     "metadata": {},
     "output_type": "execute_result"
    }
   ],
   "source": [
    "g = comkg.to_igraph()\n",
    "g"
   ]
  }
 ],
 "metadata": {
  "environment": {
   "kernel": "python3",
   "name": "pytorch-gpu.1-13.m107",
   "type": "gcloud",
   "uri": "gcr.io/deeplearning-platform-release/pytorch-gpu.1-13:m107"
  },
  "kernelspec": {
   "display_name": "Python 3 (ipykernel)",
   "language": "python",
   "name": "python3"
  },
  "language_info": {
   "codemirror_mode": {
    "name": "ipython",
    "version": 3
   },
   "file_extension": ".py",
   "mimetype": "text/x-python",
   "name": "python",
   "nbconvert_exporter": "python",
   "pygments_lexer": "ipython3",
   "version": "3.9.18"
  }
 },
 "nbformat": 4,
 "nbformat_minor": 4
}
